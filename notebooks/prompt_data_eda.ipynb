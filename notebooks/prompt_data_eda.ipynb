{
 "cells": [
  {
   "cell_type": "code",
   "execution_count": 1,
   "metadata": {},
   "outputs": [],
   "source": [
    "import os\n",
    "import json\n",
    "\n",
    "import pandas as pd\n",
    "import numpy as np"
   ]
  },
  {
   "cell_type": "markdown",
   "metadata": {},
   "source": [
    "#### 10M prompts dataset"
   ]
  },
  {
   "cell_type": "code",
   "execution_count": 2,
   "metadata": {},
   "outputs": [
    {
     "data": {
      "text/html": [
       "<div>\n",
       "<style scoped>\n",
       "    .dataframe tbody tr th:only-of-type {\n",
       "        vertical-align: middle;\n",
       "    }\n",
       "\n",
       "    .dataframe tbody tr th {\n",
       "        vertical-align: top;\n",
       "    }\n",
       "\n",
       "    .dataframe thead th {\n",
       "        text-align: right;\n",
       "    }\n",
       "</style>\n",
       "<table border=\"1\" class=\"dataframe\">\n",
       "  <thead>\n",
       "    <tr style=\"text-align: right;\">\n",
       "      <th></th>\n",
       "      <th>0</th>\n",
       "      <th>1</th>\n",
       "      <th>2</th>\n",
       "      <th>3</th>\n",
       "      <th>4</th>\n",
       "    </tr>\n",
       "  </thead>\n",
       "  <tbody>\n",
       "    <tr>\n",
       "      <th>prompt</th>\n",
       "      <td>A portrait photo of a kangaroo wearing an oran...</td>\n",
       "      <td>inmates with cow heads inside a jailcell</td>\n",
       "      <td>daguerrotype of a corgi astronaut on the moon,...</td>\n",
       "      <td>totem animal tribal chaman vodoo mask feather ...</td>\n",
       "      <td>p. cubensis</td>\n",
       "    </tr>\n",
       "    <tr>\n",
       "      <th>raw_data</th>\n",
       "      <td>{\"image_uri\": \"PENDING\", \"modifiers\": [\"portra...</td>\n",
       "      <td>{\"image_uri\": \"PENDING\", \"modifiers\": [\"inmate...</td>\n",
       "      <td>{\"image_uri\": \"PENDING\", \"modifiers\": [\"daguer...</td>\n",
       "      <td>{\"image_uri\": \"PENDING\", \"modifiers\": [\"totem ...</td>\n",
       "      <td>{\"image_uri\": \"PENDING\", \"modifiers\": [\"p cube...</td>\n",
       "    </tr>\n",
       "  </tbody>\n",
       "</table>\n",
       "</div>"
      ],
      "text/plain": [
       "                                                          0  \\\n",
       "prompt    A portrait photo of a kangaroo wearing an oran...   \n",
       "raw_data  {\"image_uri\": \"PENDING\", \"modifiers\": [\"portra...   \n",
       "\n",
       "                                                          1  \\\n",
       "prompt             inmates with cow heads inside a jailcell   \n",
       "raw_data  {\"image_uri\": \"PENDING\", \"modifiers\": [\"inmate...   \n",
       "\n",
       "                                                          2  \\\n",
       "prompt    daguerrotype of a corgi astronaut on the moon,...   \n",
       "raw_data  {\"image_uri\": \"PENDING\", \"modifiers\": [\"daguer...   \n",
       "\n",
       "                                                          3  \\\n",
       "prompt    totem animal tribal chaman vodoo mask feather ...   \n",
       "raw_data  {\"image_uri\": \"PENDING\", \"modifiers\": [\"totem ...   \n",
       "\n",
       "                                                          4  \n",
       "prompt                                          p. cubensis  \n",
       "raw_data  {\"image_uri\": \"PENDING\", \"modifiers\": [\"p cube...  "
      ]
     },
     "execution_count": 2,
     "metadata": {},
     "output_type": "execute_result"
    }
   ],
   "source": [
    "df = pd.read_csv(\"../data/external/prompts_1k.csv\")\n",
    "df.head().T"
   ]
  },
  {
   "cell_type": "code",
   "execution_count": 3,
   "metadata": {},
   "outputs": [
    {
     "data": {
      "text/plain": [
       "artstation                    211\n",
       "trending                      126\n",
       "highly detailed               124\n",
       "greg rutkowski                118\n",
       "sharp focus                    99\n",
       "                             ... \n",
       "avalon ballroom poster art      1\n",
       "nebula fractal                  1\n",
       "rainy day cafe painting         1\n",
       "irresistible man staring        1\n",
       "shopping center                 1\n",
       "Length: 5403, dtype: int64"
      ]
     },
     "execution_count": 3,
     "metadata": {},
     "output_type": "execute_result"
    }
   ],
   "source": [
    "all_modifiers_lst = []\n",
    "\n",
    "for row in df['raw_data']:\n",
    "    all_modifiers_lst += json.loads(row)['modifiers']\n",
    "\n",
    "all_modifiers_series = pd.Series(all_modifiers_lst)\n",
    "counted_mods = all_modifiers_series.value_counts()\n",
    "counted_mods"
   ]
  },
  {
   "cell_type": "code",
   "execution_count": 4,
   "metadata": {},
   "outputs": [
    {
     "data": {
      "text/plain": [
       "artstation         211\n",
       "trending           126\n",
       "highly detailed    124\n",
       "greg rutkowski     118\n",
       "sharp focus         99\n",
       "                  ... \n",
       "charlie bowater      3\n",
       "distance             3\n",
       "pencil drawing       3\n",
       "realism              3\n",
       "landscape            3\n",
       "Length: 440, dtype: int64"
      ]
     },
     "execution_count": 4,
     "metadata": {},
     "output_type": "execute_result"
    }
   ],
   "source": [
    "counted_mods[counted_mods > 2]"
   ]
  },
  {
   "cell_type": "code",
   "execution_count": 5,
   "metadata": {},
   "outputs": [
    {
     "data": {
      "text/plain": [
       "'A portrait photo of a kangaroo wearing an orange hoodie and blue sunglasses standing on the grass in front of the Sydney Opera House holding a sign on the chest that says Welcome Friends, subject: kangaroo, subject detail: wearing orange hoodie, wearing blue sunglasses, subject location: sydney opera house, subject action: holding sign'"
      ]
     },
     "execution_count": 5,
     "metadata": {},
     "output_type": "execute_result"
    }
   ],
   "source": [
    "df['prompt'][0]"
   ]
  },
  {
   "cell_type": "code",
   "execution_count": null,
   "metadata": {},
   "outputs": [],
   "source": []
  },
  {
   "cell_type": "markdown",
   "metadata": {},
   "source": [
    "#### SD 80k dataset"
   ]
  },
  {
   "cell_type": "code",
   "execution_count": 19,
   "metadata": {},
   "outputs": [
    {
     "data": {
      "text/html": [
       "<div>\n",
       "<style scoped>\n",
       "    .dataframe tbody tr th:only-of-type {\n",
       "        vertical-align: middle;\n",
       "    }\n",
       "\n",
       "    .dataframe tbody tr th {\n",
       "        vertical-align: top;\n",
       "    }\n",
       "\n",
       "    .dataframe thead th {\n",
       "        text-align: right;\n",
       "    }\n",
       "</style>\n",
       "<table border=\"1\" class=\"dataframe\">\n",
       "  <thead>\n",
       "    <tr style=\"text-align: right;\">\n",
       "      <th></th>\n",
       "      <th>Prompt</th>\n",
       "    </tr>\n",
       "  </thead>\n",
       "  <tbody>\n",
       "    <tr>\n",
       "      <th>0</th>\n",
       "      <td>young, curly haired, redhead Natalie Portman  ...</td>\n",
       "    </tr>\n",
       "    <tr>\n",
       "      <th>1</th>\n",
       "      <td>a mystical tribal goddess adorned with feather...</td>\n",
       "    </tr>\n",
       "    <tr>\n",
       "      <th>2</th>\n",
       "      <td>molly millions, portrait of a beautiful cyberp...</td>\n",
       "    </tr>\n",
       "    <tr>\n",
       "      <th>3</th>\n",
       "      <td>cyborg sweating water, big drops of sweat, for...</td>\n",
       "    </tr>\n",
       "    <tr>\n",
       "      <th>4</th>\n",
       "      <td>Max Headroom in a Perfume advertisement, magic...</td>\n",
       "    </tr>\n",
       "    <tr>\n",
       "      <th>...</th>\n",
       "      <td>...</td>\n",
       "    </tr>\n",
       "    <tr>\n",
       "      <th>81905</th>\n",
       "      <td>ismail inceoglu epic oil on canvas painting of...</td>\n",
       "    </tr>\n",
       "    <tr>\n",
       "      <th>81906</th>\n",
       "      <td>eating crayons and being reborn in the loving ...</td>\n",
       "    </tr>\n",
       "    <tr>\n",
       "      <th>81907</th>\n",
       "      <td>ilya kuvshinov with long hair, sky blue hair, ...</td>\n",
       "    </tr>\n",
       "    <tr>\n",
       "      <th>81908</th>\n",
       "      <td>cyberpunk woman with green hair wearing futuri...</td>\n",
       "    </tr>\n",
       "    <tr>\n",
       "      <th>81909</th>\n",
       "      <td>zulu cyborg, male, green eyes, red diodes, sci...</td>\n",
       "    </tr>\n",
       "  </tbody>\n",
       "</table>\n",
       "<p>81910 rows × 1 columns</p>\n",
       "</div>"
      ],
      "text/plain": [
       "                                                  Prompt\n",
       "0      young, curly haired, redhead Natalie Portman  ...\n",
       "1      a mystical tribal goddess adorned with feather...\n",
       "2      molly millions, portrait of a beautiful cyberp...\n",
       "3      cyborg sweating water, big drops of sweat, for...\n",
       "4      Max Headroom in a Perfume advertisement, magic...\n",
       "...                                                  ...\n",
       "81905  ismail inceoglu epic oil on canvas painting of...\n",
       "81906  eating crayons and being reborn in the loving ...\n",
       "81907  ilya kuvshinov with long hair, sky blue hair, ...\n",
       "81908  cyberpunk woman with green hair wearing futuri...\n",
       "81909  zulu cyborg, male, green eyes, red diodes, sci...\n",
       "\n",
       "[81910 rows x 1 columns]"
      ]
     },
     "execution_count": 19,
     "metadata": {},
     "output_type": "execute_result"
    }
   ],
   "source": [
    "sd_train_df = pd.read_parquet(\"../data/external/sd_80k_prompts\")\n",
    "sd_train_df"
   ]
  },
  {
   "cell_type": "code",
   "execution_count": 20,
   "metadata": {},
   "outputs": [
    {
     "data": {
      "text/html": [
       "<div>\n",
       "<style scoped>\n",
       "    .dataframe tbody tr th:only-of-type {\n",
       "        vertical-align: middle;\n",
       "    }\n",
       "\n",
       "    .dataframe tbody tr th {\n",
       "        vertical-align: top;\n",
       "    }\n",
       "\n",
       "    .dataframe thead th {\n",
       "        text-align: right;\n",
       "    }\n",
       "</style>\n",
       "<table border=\"1\" class=\"dataframe\">\n",
       "  <thead>\n",
       "    <tr style=\"text-align: right;\">\n",
       "      <th></th>\n",
       "      <th>0</th>\n",
       "      <th>1</th>\n",
       "      <th>2</th>\n",
       "      <th>3</th>\n",
       "    </tr>\n",
       "  </thead>\n",
       "  <tbody>\n",
       "    <tr>\n",
       "      <th>0</th>\n",
       "      <td>young</td>\n",
       "      <td>curly haired</td>\n",
       "      <td>redhead Natalie Portman  as a optimistic!</td>\n",
       "      <td>cheerful, giddy medieval innkeeper in a dark ...</td>\n",
       "    </tr>\n",
       "    <tr>\n",
       "      <th>1</th>\n",
       "      <td>a mystical tribal goddess adorned with feather...</td>\n",
       "      <td>full body</td>\n",
       "      <td>gorgeous</td>\n",
       "      <td>perfect face, powerful, cinematic, beautifull...</td>\n",
       "    </tr>\n",
       "    <tr>\n",
       "      <th>2</th>\n",
       "      <td>molly millions</td>\n",
       "      <td>portrait of a beautiful cyberpunk woman</td>\n",
       "      <td>sunglasses</td>\n",
       "      <td>shoulder long hair, cyberpunk, street samurai...</td>\n",
       "    </tr>\n",
       "    <tr>\n",
       "      <th>3</th>\n",
       "      <td>cyborg sweating water</td>\n",
       "      <td>big drops of sweat</td>\n",
       "      <td>forehead only</td>\n",
       "      <td>by Hajime Sorayama, airbrush art, beautiful f...</td>\n",
       "    </tr>\n",
       "    <tr>\n",
       "      <th>4</th>\n",
       "      <td>Max Headroom in a Perfume advertisement</td>\n",
       "      <td>magical</td>\n",
       "      <td>science fiction</td>\n",
       "      <td>symmetrical face, large eyes, Chanel, Calvin ...</td>\n",
       "    </tr>\n",
       "    <tr>\n",
       "      <th>...</th>\n",
       "      <td>...</td>\n",
       "      <td>...</td>\n",
       "      <td>...</td>\n",
       "      <td>...</td>\n",
       "    </tr>\n",
       "    <tr>\n",
       "      <th>81905</th>\n",
       "      <td>ismail inceoglu epic oil on canvas painting of...</td>\n",
       "      <td>line art!!</td>\n",
       "      <td>ink</td>\n",
       "      <td>art concept for a book cover!!, harmonic colo...</td>\n",
       "    </tr>\n",
       "    <tr>\n",
       "      <th>81906</th>\n",
       "      <td>eating crayons and being reborn in the loving ...</td>\n",
       "      <td>in the style of mondo grosso killian eng kawa...</td>\n",
       "      <td>artstation trending</td>\n",
       "      <td>8 k, photorealistic, volumetric lighting caus...</td>\n",
       "    </tr>\n",
       "    <tr>\n",
       "      <th>81907</th>\n",
       "      <td>ilya kuvshinov with long hair</td>\n",
       "      <td>sky blue hair</td>\n",
       "      <td>hazel eyes</td>\n",
       "      <td>boyish face, black leather jacket, profession...</td>\n",
       "    </tr>\n",
       "    <tr>\n",
       "      <th>81908</th>\n",
       "      <td>cyberpunk woman with green hair wearing futuri...</td>\n",
       "      <td>beautiful face</td>\n",
       "      <td>by wlop</td>\n",
       "      <td>by artgerm, by yoshitaka amano, digital art, ...</td>\n",
       "    </tr>\n",
       "    <tr>\n",
       "      <th>81909</th>\n",
       "      <td>zulu cyborg</td>\n",
       "      <td>male</td>\n",
       "      <td>green eyes</td>\n",
       "      <td>red diodes, science fiction, highly detailed,...</td>\n",
       "    </tr>\n",
       "  </tbody>\n",
       "</table>\n",
       "<p>81910 rows × 4 columns</p>\n",
       "</div>"
      ],
      "text/plain": [
       "                                                       0  \\\n",
       "0                                                  young   \n",
       "1      a mystical tribal goddess adorned with feather...   \n",
       "2                                         molly millions   \n",
       "3                                  cyborg sweating water   \n",
       "4                Max Headroom in a Perfume advertisement   \n",
       "...                                                  ...   \n",
       "81905  ismail inceoglu epic oil on canvas painting of...   \n",
       "81906  eating crayons and being reborn in the loving ...   \n",
       "81907                      ilya kuvshinov with long hair   \n",
       "81908  cyberpunk woman with green hair wearing futuri...   \n",
       "81909                                        zulu cyborg   \n",
       "\n",
       "                                                       1  \\\n",
       "0                                           curly haired   \n",
       "1                                              full body   \n",
       "2                portrait of a beautiful cyberpunk woman   \n",
       "3                                     big drops of sweat   \n",
       "4                                                magical   \n",
       "...                                                  ...   \n",
       "81905                                         line art!!   \n",
       "81906   in the style of mondo grosso killian eng kawa...   \n",
       "81907                                      sky blue hair   \n",
       "81908                                     beautiful face   \n",
       "81909                                               male   \n",
       "\n",
       "                                                2  \\\n",
       "0       redhead Natalie Portman  as a optimistic!   \n",
       "1                                        gorgeous   \n",
       "2                                      sunglasses   \n",
       "3                                   forehead only   \n",
       "4                                 science fiction   \n",
       "...                                           ...   \n",
       "81905                                         ink   \n",
       "81906                         artstation trending   \n",
       "81907                                  hazel eyes   \n",
       "81908                                     by wlop   \n",
       "81909                                  green eyes   \n",
       "\n",
       "                                                       3  \n",
       "0       cheerful, giddy medieval innkeeper in a dark ...  \n",
       "1       perfect face, powerful, cinematic, beautifull...  \n",
       "2       shoulder long hair, cyberpunk, street samurai...  \n",
       "3       by Hajime Sorayama, airbrush art, beautiful f...  \n",
       "4       symmetrical face, large eyes, Chanel, Calvin ...  \n",
       "...                                                  ...  \n",
       "81905   art concept for a book cover!!, harmonic colo...  \n",
       "81906   8 k, photorealistic, volumetric lighting caus...  \n",
       "81907   boyish face, black leather jacket, profession...  \n",
       "81908   by artgerm, by yoshitaka amano, digital art, ...  \n",
       "81909   red diodes, science fiction, highly detailed,...  \n",
       "\n",
       "[81910 rows x 4 columns]"
      ]
     },
     "execution_count": 20,
     "metadata": {},
     "output_type": "execute_result"
    }
   ],
   "source": [
    "sd_split_df = sd_train_df.Prompt.str.split(',', n=3, expand=True)\n",
    "sd_split_df"
   ]
  },
  {
   "cell_type": "code",
   "execution_count": 21,
   "metadata": {},
   "outputs": [
    {
     "data": {
      "text/plain": [
       "ultra realistic illustration                                         312\n",
       "concept art by jama jurabaev                                         187\n",
       "beautiful                                                            129\n",
       "artgerm                                                              106\n",
       "digital art                                                           96\n",
       "                                                                    ... \n",
       "hyper realistic hamburger as a xenomorph                               1\n",
       "A surreal and enigmatic landscape with a spiral galaxy in the sky      1\n",
       "hyper realistic photo of chaos knight girl                             1\n",
       "Between heaven and hell                                                1\n",
       "zulu cyborg                                                            1\n",
       "Name: 0, Length: 52777, dtype: int64"
      ]
     },
     "execution_count": 21,
     "metadata": {},
     "output_type": "execute_result"
    }
   ],
   "source": [
    "sd_split_df[0].value_counts()"
   ]
  },
  {
   "cell_type": "code",
   "execution_count": 22,
   "metadata": {},
   "outputs": [
    {
     "data": {
      "text/plain": [
       " elegant                                      2744\n",
       " intricate                                    2582\n",
       " highly detailed                              1883\n",
       " concept art                                  1816\n",
       " fantasy                                      1556\n",
       "                                              ... \n",
       " camomile and dandelion flower messy crown       1\n",
       " waves                                           1\n",
       " lava                                            1\n",
       " android close to camera                         1\n",
       " divine tarot card background                    1\n",
       "Name: 2, Length: 13364, dtype: int64"
      ]
     },
     "execution_count": 22,
     "metadata": {},
     "output_type": "execute_result"
    }
   ],
   "source": [
    "sd_split_df[2].value_counts()"
   ]
  },
  {
   "cell_type": "code",
   "execution_count": 28,
   "metadata": {},
   "outputs": [
    {
     "data": {
      "text/plain": [
       "concept art                                                                                       33451\n",
       "highly detailed                                                                                   29035\n",
       "sharp focus                                                                                       27828\n",
       "artstation                                                                                        25136\n",
       "digital painting                                                                                  23593\n",
       "                                                                                                  ...  \n",
       "a cow with a machine gun                                                                              1\n",
       "bright rainbow gold cyberpunk nimbus                                                                  1\n",
       "concept art of modular military base                                                                  1\n",
       "realistic portrait beautiful detailed 3 d painting of cinematic movie scene from studio ghibli        1\n",
       "red diodes                                                                                            1\n",
       "Length: 106276, dtype: int64"
      ]
     },
     "execution_count": 28,
     "metadata": {},
     "output_type": "execute_result"
    }
   ],
   "source": [
    "all_mods_df = pd.Series(','.join(sd_train_df.Prompt).split(','))\n",
    "all_mods_df = all_mods_df.apply(lambda x: x.strip())\n",
    "all_mods_df.value_counts()"
   ]
  },
  {
   "cell_type": "code",
   "execution_count": 42,
   "metadata": {},
   "outputs": [
    {
     "name": "stderr",
     "output_type": "stream",
     "text": [
      "Setting `pad_token_id` to `eos_token_id`:50256 for open-end generation.\n"
     ]
    },
    {
     "data": {
      "text/plain": [
       "[{'generated_text': 'portrait of a sks young man with red eyes and yellow tounge, long brown hair,'},\n",
       " {'generated_text': 'portrait of a sks young man, male, clear face, masculine, upper body, red'},\n",
       " {'generated_text': 'portrait of a sks young man holding his fluffy white fluffy blue cat, cloudy sky background lush'},\n",
       " {'generated_text': 'portrait of a sks young man with long light brown hair, apron and his blue t'},\n",
       " {'generated_text': 'portrait of a sks young man wearing black and gold chains, cinematic lightning, high fantasy,'}]"
      ]
     },
     "execution_count": 42,
     "metadata": {},
     "output_type": "execute_result"
    }
   ],
   "source": [
    "from transformers import pipeline, set_seed\n",
    "generator = pipeline('text-generation', model='RamAnanth1/distilgpt2-sd-prompts')\n",
    "set_seed(42)\n",
    "generator(\"portrait of a sks young man\", max_length=20, num_return_sequences=5)"
   ]
  },
  {
   "cell_type": "code",
   "execution_count": 44,
   "metadata": {},
   "outputs": [
    {
     "name": "stderr",
     "output_type": "stream",
     "text": [
      "Setting `pad_token_id` to `eos_token_id`:50256 for open-end generation.\n"
     ]
    },
    {
     "data": {
      "text/plain": [
       "[{'generated_text': 'portrait of a sks young man, highly detailed, digital painting, artstation, concept art'},\n",
       " {'generated_text': 'portrait of a sks young man, 1920s style, smooth, sharp focus, highly detailed'},\n",
       " {'generated_text': 'portrait of a sks young man by greg rutkowski, greg rutkowski'},\n",
       " {'generated_text': 'portrait of a sks young man wearing a kari dress, holding a bouquet of flowing'},\n",
       " {'generated_text': 'portrait of a sks young man wearing front facing!!!! as a princess padme in a pond'}]"
      ]
     },
     "execution_count": 44,
     "metadata": {},
     "output_type": "execute_result"
    }
   ],
   "source": [
    "from transformers import pipeline, set_seed\n",
    "generator = pipeline('text-generation', model='rexoscare/sd-prompt-generator-gpt-2')\n",
    "set_seed(42)\n",
    "generator(\"portrait of a sks young man\", max_length=20, num_return_sequences=5)"
   ]
  },
  {
   "cell_type": "code",
   "execution_count": null,
   "metadata": {},
   "outputs": [],
   "source": []
  }
 ],
 "metadata": {
  "kernelspec": {
   "display_name": "Python 3 (ipykernel)",
   "language": "python",
   "name": "python3"
  },
  "language_info": {
   "codemirror_mode": {
    "name": "ipython",
    "version": 3
   },
   "file_extension": ".py",
   "mimetype": "text/x-python",
   "name": "python",
   "nbconvert_exporter": "python",
   "pygments_lexer": "ipython3",
   "version": "3.10.6"
  },
  "vscode": {
   "interpreter": {
    "hash": "9e25ae8c1540169aa60895306754e20173662bb2309db90b0c713c83fa508018"
   }
  }
 },
 "nbformat": 4,
 "nbformat_minor": 4
}
