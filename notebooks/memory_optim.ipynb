{
 "cells": [
  {
   "cell_type": "code",
   "execution_count": 1,
   "metadata": {},
   "outputs": [],
   "source": [
    "import os\n",
    "\n",
    "import torch\n",
    "from  torch.cuda.amp import autocast\n",
    "from PIL import Image\n",
    "# from diffusers_interpret import StableDiffusionImg2ImgPipelineExplainer\n",
    "from PIL import Image\n",
    "from diffusers import StableDiffusionImg2ImgPipeline, DPMSolverMultistepScheduler\n",
    "# from lavis.models import load_model_and_preprocess\n",
    "from dotenv import find_dotenv, load_dotenv\n",
    "from numba import cuda\n",
    "from tqdm import tqdm as tqdm_notebook"
   ]
  },
  {
   "cell_type": "code",
   "execution_count": 2,
   "metadata": {},
   "outputs": [
    {
     "data": {
      "text/plain": [
       "True"
      ]
     },
     "execution_count": 2,
     "metadata": {},
     "output_type": "execute_result"
    }
   ],
   "source": [
    "load_dotenv(find_dotenv())"
   ]
  },
  {
   "cell_type": "code",
   "execution_count": 9,
   "metadata": {},
   "outputs": [],
   "source": [
    "BASE_STRENGTH = 0.7\n",
    "BASE_SCALE = 9\n",
    "# MODEL_NAME = \"CompVis/stable-diffusion-v1-4\"\n",
    "MODEL_NAME = \"stabilityai/stable-diffusion-2-1-base\"\n",
    "IMG_SIZE = (512, 512)\n",
    "SEED = 42\n",
    "IMG_DEVICE = 'cuda'\n",
    "# IMG_DEVICE = 'gpu'\n",
    "DESC_DEVICE = 'cpu'\n",
    "STYLES_LST = [\n",
    "    \"painting in the style of Banksy of\",\n",
    "    \"painting in the style of Robert Delaunay of\",\n",
    "    \"painting in the style of Vincent Van Gogh of\",\n",
    "    \"painting in the style of Malevich of\"\n",
    "]"
   ]
  },
  {
   "cell_type": "code",
   "execution_count": 4,
   "metadata": {},
   "outputs": [],
   "source": [
    "assert torch.cuda.is_available()\n",
    "torch.cuda.empty_cache()"
   ]
  },
  {
   "cell_type": "code",
   "execution_count": 5,
   "metadata": {},
   "outputs": [
    {
     "data": {
      "application/vnd.jupyter.widget-view+json": {
       "model_id": "ccd51b3aec184fb38ce90ab8cdf63ceb",
       "version_major": 2,
       "version_minor": 0
      },
      "text/plain": [
       "Fetching 12 files:   0%|          | 0/12 [00:00<?, ?it/s]"
      ]
     },
     "metadata": {},
     "output_type": "display_data"
    }
   ],
   "source": [
    "scheduler = DPMSolverMultistepScheduler.from_pretrained(MODEL_NAME, subfolder=\"scheduler\")\n",
    "pipe = StableDiffusionImg2ImgPipeline.from_pretrained(\n",
    "    MODEL_NAME,\n",
    "    use_auth_token=os.environ[\"DIFFUSERS_ACCESS_TOKEN\"],\n",
    "    scheduler=scheduler,\n",
    "    safety_checker=None,\n",
    "    torch_dtype=torch.float16,\n",
    "    revision=\"fp16\",\n",
    ")\n",
    "pipe.to(IMG_DEVICE)\n",
    "pipe.enable_attention_slicing()\n",
    "# pipe.enable_vae_slicing()\n",
    "# pipe.enable_xformers_memory_efficient_attention()\n",
    "pipe.enable_sequential_cpu_offload()"
   ]
  },
  {
   "cell_type": "code",
   "execution_count": 21,
   "metadata": {},
   "outputs": [],
   "source": [
    "image = Image.open(\"../input_8eea7506-cd11-440f-b09e-49d6e33d844b.png\").convert(\"RGB\").resize(IMG_SIZE)\n",
    "# prompt = \"painting in the style of Banksy of\"\n",
    "prompt = \"painting of a person face portrait\""
   ]
  },
  {
   "cell_type": "code",
   "execution_count": 31,
   "metadata": {},
   "outputs": [
    {
     "data": {
      "application/vnd.jupyter.widget-view+json": {
       "model_id": "7871a0c9c2fb4ab282bbfef54e92cc46",
       "version_major": 2,
       "version_minor": 0
      },
      "text/plain": [
       "  0%|          | 0/25 [00:00<?, ?it/s]"
      ]
     },
     "metadata": {},
     "output_type": "display_data"
    }
   ],
   "source": [
    "torch.cuda.empty_cache()\n",
    "\n",
    "with autocast(), torch.inference_mode():\n",
    "    output = pipe(\n",
    "        prompt=prompt, \n",
    "        image=image, \n",
    "        strength=0.25,\n",
    "        # negative_prompt=negative_prompt,\n",
    "        num_images_per_prompt=4,\n",
    "        num_inference_steps=100,\n",
    "        guidance_scale=10,\n",
    "        generator=None,\n",
    "    ).images"
   ]
  },
  {
   "cell_type": "code",
   "execution_count": 28,
   "metadata": {},
   "outputs": [],
   "source": [
    "torch.cuda.empty_cache()"
   ]
  },
  {
   "cell_type": "code",
   "execution_count": null,
   "metadata": {},
   "outputs": [],
   "source": []
  },
  {
   "cell_type": "code",
   "execution_count": null,
   "metadata": {},
   "outputs": [],
   "source": []
  }
 ],
 "metadata": {
  "kernelspec": {
   "display_name": "new_venv",
   "language": "python",
   "name": "python3"
  },
  "language_info": {
   "codemirror_mode": {
    "name": "ipython",
    "version": 3
   },
   "file_extension": ".py",
   "mimetype": "text/x-python",
   "name": "python",
   "nbconvert_exporter": "python",
   "pygments_lexer": "ipython3",
   "version": "3.10.6"
  },
  "orig_nbformat": 4,
  "vscode": {
   "interpreter": {
    "hash": "f1886532e90c3728d8513c3d4e602ceac7b0bddeb6a1e1832cbc2e964dfb8222"
   }
  }
 },
 "nbformat": 4,
 "nbformat_minor": 2
}
